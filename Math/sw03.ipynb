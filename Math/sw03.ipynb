{
 "metadata": {
  "language_info": {
   "codemirror_mode": {
    "name": "ipython",
    "version": 3
   },
   "file_extension": ".py",
   "mimetype": "text/x-python",
   "name": "python",
   "nbconvert_exporter": "python",
   "pygments_lexer": "ipython3",
   "version": "3.8.1-final"
  },
  "orig_nbformat": 2,
  "kernelspec": {
   "name": "Python 3.8.1 64-bit",
   "display_name": "Python 3.8.1 64-bit",
   "metadata": {
    "interpreter": {
     "hash": "ff9e96c48dcd6c66633919727322ca4851b38017f61fde8a0f7b0f87a1e07002"
    }
   }
  }
 },
 "nbformat": 4,
 "nbformat_minor": 2,
 "cells": [
  {
   "source": [
    "# Computer Graphik: Projektive Geometrie I - Übung\n",
    "\n",
    "I.BA_CG, SW 03\n",
    "\n",
    "Léonard Wyrsch"
   ],
   "cell_type": "markdown",
   "metadata": {}
  },
  {
   "cell_type": "code",
   "execution_count": 1,
   "metadata": {},
   "outputs": [],
   "source": [
    "import math"
   ]
  },
  {
   "source": [
    "## 1. Rechnen mit Vektoren\n",
    "\n",
    "### (a) Wie lautet der Einheitsvektor n, der die zum Vektor a = \\[1,−4,3\\]<sup>T</sup> entgegengesetzte Richtung hat?"
   ],
   "cell_type": "markdown",
   "metadata": {}
  },
  {
   "source": [
    "         1\n",
    "    a = -4              n = norm(-a)\n",
    "         3\n",
    "\n",
    "        -1\n",
    "    -a = 4              n = -a / |-a|\n",
    "        -3\n",
    "\n",
    "    |-a| = |a| = √(a^T * a) = √(1^2 + (-4)^2 + 3^2) = √(1 + 16 + 9) = √(26)\n",
    "\n",
    "       -1 / √(26)\n",
    "    n = 4 / √(26)\n",
    "       -3 / √(26)"
   ],
   "cell_type": "markdown",
   "metadata": {}
  },
  {
   "cell_type": "code",
   "execution_count": 2,
   "metadata": {
    "tags": []
   },
   "outputs": [
    {
     "output_type": "stream",
     "name": "stdout",
     "text": "[-0.19611613513818404, 0.7844645405527362, -0.5883484054145521]\n"
    }
   ],
   "source": [
    "print([x / math.sqrt(26) for x in [-1, 4, -3]])"
   ]
  },
  {
   "source": [
    "       -0.19611613513818404\n",
    "    n = 0.7844645405527362\n",
    "       -0.5883484054145521"
   ],
   "cell_type": "markdown",
   "metadata": {}
  },
  {
   "source": [
    "### (b) Welchen Winkel schliessen die Vektoren a = \\[10,−5,10\\]<sup>T</sup> und b = \\[6,−2,−1\\]<sup>T</sup> ein?"
   ],
   "cell_type": "markdown",
   "metadata": {}
  },
  {
   "source": [
    "    a • b = |a| * |b| * cos(φ)\n",
    "\n",
    "    a • b = 10 * 6 + (-5) * (-2) + 10 * (-1) = 60 + 10 - 10 = 60\n",
    "    |a| = √(a • a) = √(100 + 25 + 100) = √(225)\n",
    "    |b| = √(36 + 4 + 1) = √(41)\n",
    "\n",
    "    60 / (√(225) * √(41)) = cos(φ)\n",
    "    φ = cos^(-1)(60 / (√(225) * √(41)))"
   ],
   "cell_type": "markdown",
   "metadata": {}
  },
  {
   "cell_type": "code",
   "execution_count": 3,
   "metadata": {
    "tags": []
   },
   "outputs": [
    {
     "output_type": "stream",
     "name": "stdout",
     "text": "0.8960553845713439\n51.340191745909905\n"
    }
   ],
   "source": [
    "angle_rad = math.acos(60 / (math.sqrt(225) * math.sqrt(41)))\n",
    "angle_deg = angle_rad / (2 * math.pi) * 360\n",
    "\n",
    "print(angle_rad)\n",
    "print(angle_deg)"
   ]
  },
  {
   "source": [
    "    φ = 51.340191745909905°"
   ],
   "cell_type": "markdown",
   "metadata": {}
  },
  {
   "source": [
    "### (c) Zeigen Sie, dass die beiden Vektoren a = \\[−1,2,5\\]<sup>T</sup> und b = \\[−4,8,−4\\]<sup>T</sup> zueinander orthogonal sind"
   ],
   "cell_type": "markdown",
   "metadata": {}
  },
  {
   "source": [
    "    orthogonal => a • b = 0\n",
    "\n",
    "    a • b = (-1) * (-4) + 2 * 8 + 5 * (-4) = 4 + 16 + (-20) = 20 - 20 = 0    Q.E.D"
   ],
   "cell_type": "markdown",
   "metadata": {}
  },
  {
   "source": [
    "### (d) Berechnen Sie die Komponente von des Vektors b = \\[5,1,3\\]<sup>T</sup> in Richtung des Vektors a = \\[2,−2,1\\]<sup>T</sup>."
   ],
   "cell_type": "markdown",
   "metadata": {}
  },
  {
   "source": [
    "b<sub>a</sub> = a • b / |a|^2 * a\n",
    "\n",
    "    a • b = 10 - 2 + 3 = 11\n",
    "    |a| = √(4 + 4 + 1) = √9\n",
    "\n",
    "    a • b / |a|^2 = 11 / 9"
   ],
   "cell_type": "markdown",
   "metadata": {}
  },
  {
   "cell_type": "code",
   "execution_count": 4,
   "metadata": {
    "tags": []
   },
   "outputs": [
    {
     "output_type": "stream",
     "name": "stdout",
     "text": "[2.4444444444444446, -2.4444444444444446, 1.2222222222222223]\n"
    }
   ],
   "source": [
    "print([x * 11 / 9 for x in [2, -2, 1]])"
   ]
  },
  {
   "source": [
    "b<sub>a</sub> =\n",
    "\n",
    "     2.4444444444444446\n",
    "    -2.4444444444444446\n",
    "     1.2222222222222223"
   ],
   "cell_type": "markdown",
   "metadata": {}
  },
  {
   "source": [
    "### (e) Gegeben sind die Vektoren a = \\[1,4,−6\\]<sup>T</sup>, b = \\[2,−1,2\\]<sup>T</sup> und c = \\[0,2,3\\]<sup>T</sup>. Berechnen Sie (a − b) × (3c)."
   ],
   "cell_type": "markdown",
   "metadata": {}
  },
  {
   "source": [
    "            1    2  -1\n",
    "    a - b = 4 - -1 = 5\n",
    "           -6    2  -8\n",
    "\n",
    "         3 * 0   0\n",
    "    3c = 3 * 2 = 6\n",
    "         3 * 3   9\n",
    "\n",
    "    -1   0    5 * 9 - -8 * 9   45 + 72  117\n",
    "     5 x 6 = -8 * 0 - -1 * 9 =  0 +  9 =  9\n",
    "    -8   9   -1 * 6 -  5 * 0   -6 -  0   -6\n",
    "\n",
    "                    117\n",
    "    (a - b) x (3c) =  9\n",
    "                     -6"
   ],
   "cell_type": "markdown",
   "metadata": {}
  },
  {
   "source": [
    "### (f) Wie muss der Parameter λ gewählt werden, damit die drei Vektoren a = \\[1,λ,4\\]<sup>T</sup>, b = \\[−2,4,11\\]<sup>T</sup> und c = \\[−3,5,1\\]<sup>T</sup> komplanar sind?"
   ],
   "cell_type": "markdown",
   "metadata": {}
  },
  {
   "source": [
    "                 1 λ  4\n",
    "    [a, b, c] = -2 4 11 = 0\n",
    "                -3 5  1\n",
    "\n",
    "    [a, b, c] = 1*4*1 + λ*11*-3 + 4*-2*5 - 4*4*-3 - λ*-2*1 - 1*11*5 =\n",
    "    = 4 - 33λ - 40 + 48 + 2λ - 55 = -31λ - 43 = 0       | +31λ\n",
    "    -> 31λ = -43                                        | /31\n",
    "    -> λ = -43/31"
   ],
   "cell_type": "markdown",
   "metadata": {}
  },
  {
   "cell_type": "code",
   "execution_count": 5,
   "metadata": {
    "tags": []
   },
   "outputs": [
    {
     "output_type": "stream",
     "name": "stdout",
     "text": "-1.3870967741935485\n"
    }
   ],
   "source": [
    "print(-43 / 31)"
   ]
  },
  {
   "source": [
    "    λ = -1.3870967741935485"
   ],
   "cell_type": "markdown",
   "metadata": {}
  },
  {
   "source": [
    "### (g) Zeigen Sie die lineare Unabhängigkeit der Vektoren a = \\[1,−6,−4\\]<sup>T</sup>, b = \\[1,−2,−2\\]<sup>T</sup> und c = \\[1,2,3\\]<sup>T</sup>."
   ],
   "cell_type": "markdown",
   "metadata": {}
  },
  {
   "source": [
    "                1 -6 -4\n",
    "    [a, b, c] = 1 -2 -2 != 0\n",
    "                1  2  3\n",
    "\n",
    "    [a, b, c] = 1*-2*3 + -6*-2*1 + -4*1*2 - -4*-2*1 - -6*1*3 - 1*-2*2 =\n",
    "    = -6 + 12 - 8 - 8 + 18 + 4 = 12 != 0    Q.E.D"
   ],
   "cell_type": "markdown",
   "metadata": {}
  },
  {
   "source": [
    "### (h) Beweisen Sie den Kosinussatz c<sup>2</sup> = a<sup>2</sup> + b<sup>2</sup> − 2ab*cos(γ) indem Sie im Dreieck mit den Ecken A, B, C die drei Vektoren a = CA, b = CB und c = AB einführen und dann das Skalarprodukt c • c berechnen.\n",
    "Tipp: es gilt c = a − b und weiter für einen beliebigen Vektor x, x • x = |x|<sup>2</sup> = x<sup>2</sup> wobei x = |x| die Länge des Vektors x ist."
   ],
   "cell_type": "markdown",
   "metadata": {}
  },
  {
   "source": [
    "    c • c = |c|^2 = c^2\n",
    "    c = a - b\n",
    "    |c|^2 = |a|^2 + |b|^2 - 2*|a|*|b|*cos(γ)"
   ],
   "cell_type": "markdown",
   "metadata": {}
  },
  {
   "source": [
    "## 2. Skalar- und Vektorprodukt\n",
    "### Gegeben sei eine Gerade x(t) = x<sub>0</sub> + t*d, t ∈ R und eine Ebene gegeben durch einen Punkt y<sub>0</sub> und den Normalenvektor n. Was sind die Bedingungen dafür, dass\n",
    "### (a) die Gerade senkrecht auf der Ebene steht,"
   ],
   "cell_type": "markdown",
   "metadata": {}
  },
  {
   "source": [
    "    d x n = 0"
   ],
   "cell_type": "markdown",
   "metadata": {}
  },
  {
   "source": [
    "### (b) die Gerade parallel zur Ebene verläuft,"
   ],
   "cell_type": "markdown",
   "metadata": {}
  },
  {
   "source": [
    "    d • n = 0"
   ],
   "cell_type": "markdown",
   "metadata": {}
  },
  {
   "source": [
    "### (c) die Gerade in der Ebene liegt?"
   ],
   "cell_type": "markdown",
   "metadata": {}
  },
  {
   "source": [
    "    d • n = 0 && n • (x0 - y0) = 0"
   ],
   "cell_type": "markdown",
   "metadata": {}
  },
  {
   "source": [
    "## 3. Translation im 2D\n",
    "### Das Dreieck A(0,0), B(4,0), C(2,3) werde um den Vektor (1,2)<sup>T</sup> translatiert. Was sind die neuen Koordinaten der drei Eckpunkte? Ist es möglich diese Transformation mit Hilfe einer 2 × 2-Matrix zu beschreiben? Zeichnen Sie die Situation auf!"
   ],
   "cell_type": "markdown",
   "metadata": {}
  },
  {
   "source": [
    "        0       4       2       1 0 1\n",
    "    A = 0   B = 0   C = 3   T = 0 1 2\n",
    "        1       1       1       0 0 1\n",
    "        \n",
    "\n",
    "                0       4       2\n",
    "            A = 0   B = 0   C = 3\n",
    "                1       1       1\n",
    "\n",
    "        1 0 1   1       5       3\n",
    "    T = 0 1 2   2       2       5\n",
    "        0 0 1   1       1       1\n",
    "\n",
    "    A' = (1, 2)\n",
    "    B' = (5, 2)\n",
    "    C' = (3, 5)"
   ],
   "cell_type": "markdown",
   "metadata": {}
  },
  {
   "source": [
    "## 4. Translation im 3D\n",
    "### Das Dreieck A(0,0,0), B(4,0,2), C(2,3,1) werde um den Vektor (1,2,3)<sup>T</sup> translatiert. Was sind die neuen Koordinaten der drei Eckpunkte?"
   ],
   "cell_type": "markdown",
   "metadata": {}
  },
  {
   "source": [
    "    A' = (1, 2, 3)\n",
    "    B' = (5, 2, 5)\n",
    "    C' = (3, 5, 4)"
   ],
   "cell_type": "markdown",
   "metadata": {}
  },
  {
   "source": [
    "## 5. Skalierung im 2D\n",
    "### Das Dreieck A(0,0), B(4,0), C(2,3) werde in x-Richtung mit dem Faktor s<sub>x</sub> = 2 und in y-Richtung mit dem Faktor s<sub>y</sub> = 1 skaliert. Bestimmen Sie die Skalierungsmatrix und berechnen Sie die skalierten Eckpunkte. Verwenden Sie Matrix-Vektor-Multiplikationen! Skizzieren Sie die Situation zur Kontrolle."
   ],
   "cell_type": "markdown",
   "metadata": {}
  },
  {
   "source": [
    "    S = 2 0\n",
    "        0 1\n",
    "\n",
    "\n",
    "            A = 0   B = 4   C = 2\n",
    "                0       0       3\n",
    "\n",
    "    S = 2 0     0       8       4\n",
    "        0 1     0       0       3\n",
    "\n",
    "    A' = (0, 0)\n",
    "    B' = (4, 0)\n",
    "    C' = (4, 3)"
   ],
   "cell_type": "markdown",
   "metadata": {}
  },
  {
   "source": [
    "## 6. Rotation im 2D\n",
    "### Das Dreieck A(0,0), B(4,0), C(2,3) werde um den Ursprung gedreht und zwar mit dem Winkel φ = 135°. Bestimmen Sie die Rotations- oder Drehmatrix. Bestimmen Sie die Eckpunkte des rotierten Dreiecks mit Hilfe von Matrix-Vektor-Multiplikationen! Skizzieren Sie die Situation zur Kontrolle."
   ],
   "cell_type": "markdown",
   "metadata": {}
  },
  {
   "source": [
    "    R = cos(φ) -sin(φ) = -1/√2 -1/√2\n",
    "        sin(φ)  cos(φ)    1/√2 -1/√2\n",
    "\n",
    "\n",
    "                    A = 0   B = 4   C = 2\n",
    "                        0       0       3\n",
    "\n",
    "    R = -1/√2 -1/√2     0    -4/√2    -5/√2\n",
    "         1/√2 -1/√2     0     4/√2    -1/√2\n",
    "\n",
    "    A' = (    0,     0)\n",
    "    B' = (-4/√2,  4/√2)\n",
    "    C' = (-5/√2, -1/√2)"
   ],
   "cell_type": "markdown",
   "metadata": {}
  },
  {
   "source": [
    "## 7. Nochmals Rotation im 2D\n",
    "### Wie lautet die Drehmatrix, um das in der vorigen Aufgabe rotierte Dreieck wieder zurück zu drehen? Wie hängen die beiden letzten Drehmatrizen zusammen?"
   ],
   "cell_type": "markdown",
   "metadata": {}
  },
  {
   "source": [
    "    φ = -135°\n",
    "\n",
    "    R' = -1/√2  1/√2\n",
    "         -1/√2 -1/√2\n",
    "\n",
    "\n",
    "    R * R' =              -1/√2         1/√2\n",
    "                          -1/√2        -1/√2\n",
    "\n",
    "    -1/√2 -1/√2     2*(-1/√2)^2            0 = 2*(1/2)        0 = 1 0\n",
    "     1/√2 -1/√2               0  2*(-1/√2)^2         0  2*(1/2)   0 1\n",
    "\n",
    "    R * R^(-1) = I"
   ],
   "cell_type": "markdown",
   "metadata": {}
  },
  {
   "source": [
    "## 8. Spiegelung an der x-Achse\n",
    "### Spiegeln Sie das Dreieck A(0,0), B(4,0), C(2,3) an der x-Achse. Wie muss eine entsprechende Matrix aussehen, die das bewirkt? Wie sieht die Matrix für die Spiegelung an der y-Achse aus? Wie für eine Spiegelung an einer beliebigen Geraden durch den Ursprung?"
   ],
   "cell_type": "markdown",
   "metadata": {}
  },
  {
   "source": [
    "            A = 0   B = 4   C = 2\n",
    "                0       0       3\n",
    "    \n",
    "    Mx = 1  0   0       4       2\n",
    "         0 -1   0       0      -3\n",
    "\n",
    "    Ax = (0,  0)\n",
    "    Bx = (4,  0)\n",
    "    Cx = (2, -3)\n",
    "\n",
    "\n",
    "            A = 0   B = 4   C = 2\n",
    "                0       0       3\n",
    "    \n",
    "    My = -1 0   0      -4      -2\n",
    "          0 1   0       0       3\n",
    "\n",
    "    Ax = ( 0, 0)\n",
    "    Bx = (-4, 0)\n",
    "    Cx = (-2, 3)"
   ],
   "cell_type": "markdown",
   "metadata": {}
  }
 ]
}