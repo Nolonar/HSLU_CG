{
 "metadata": {
  "language_info": {
   "codemirror_mode": {
    "name": "ipython",
    "version": 3
   },
   "file_extension": ".py",
   "mimetype": "text/x-python",
   "name": "python",
   "nbconvert_exporter": "python",
   "pygments_lexer": "ipython3",
   "version": "3.8.1-final"
  },
  "orig_nbformat": 2,
  "kernelspec": {
   "name": "Python 3.8.1 64-bit",
   "display_name": "Python 3.8.1 64-bit",
   "metadata": {
    "interpreter": {
     "hash": "ff9e96c48dcd6c66633919727322ca4851b38017f61fde8a0f7b0f87a1e07002"
    }
   }
  }
 },
 "nbformat": 4,
 "nbformat_minor": 2,
 "cells": [
  {
   "source": [
    "# Computer Graphik: Projektive Geometrie III - Übung\n",
    "\n",
    "I.BA_CG, SW 05\n",
    "\n",
    "Léonard Wyrsch"
   ],
   "cell_type": "markdown",
   "metadata": {}
  },
  {
   "source": [
    "## Aufgabe 1: Rotation im dreidimensionalen Raum\n",
    "Der Würfel mit der Seitenlänge a = 1 hat eine Ecke im Nullpunkt und befindet sich vollständig im ersten Oktanten ({(x, y, z) ∈ R<sup>3</sup> | x ≥ 0 ∧ y ≥ 0 ∧ z ≥ 0}). Wie lautet die (homogene) Transformationsmatrix, welche diesen Würfel im mathematisch positiven Sinn um 45° um die y-Achse dreht. Wie lauten dann die neuen Koordinaten der acht Eckpunkte?"
   ],
   "cell_type": "markdown",
   "metadata": {}
  },
  {
   "source": [
    "        0 1 0 1 0 1 0 1         cos(φ) 0 sin(φ) 0\n",
    "    A = 0 0 1 1 0 0 1 1     R =     0  1     0  0   φ = 45°\n",
    "        0 0 0 0 1 1 1 1        -sin(φ) 0 cos(φ) 0\n",
    "        1 1 1 1 1 1 1 1             0  0     0  1\n",
    "\n",
    "                         0   1   0   1    0    1  0    1\n",
    "                     A = 0   0   1   1    0    0  1    1\n",
    "                         0   0   0   0    1    1  1    1\n",
    "                         1   1   1   1    1    1  1    1\n",
    "\n",
    "        1/√2 0 1/√2 0    0  1/√2 0  1/√2 1/√2 √2 1/√2 √2\n",
    "    R =  0   1  0   0    0   0   1   1    0    0  1    1 = A'\n",
    "       -1/√2 0 1/√2 0    0 -1/√2 0 -1/√2 1/√2  0 1/√2  0\n",
    "         0   0  0   1    1   1   1   1    1    1  1    1"
   ],
   "cell_type": "markdown",
   "metadata": {}
  },
  {
   "source": [
    "## Aufgabe 2: Rotation im dreidimensionalen Raum\n",
    "Die Gerade g geht durch die Punkte P(2,0,0) und Q(0,4,0). Sie liegt also in der x-y-Ebene. Sei δ die Drehung um die Gerade g mit dem Drehwinkel φ = 55°. Gesucht ist die Matrix D dieser Drehung\n",
    "\n",
    "**Hinweis:** Man erhält die gesuchte Matrix, wenn man ρ wie folgt zusammensetzt:\n",
    "- Zuerst eine Translation τ, welche g in eine Gerade g<sup>\\*</sup> durch den Nullpunkt schiebt\n",
    "- Nach einer geeigneten Rotation R um die z-Achse kommt g<sup>\\*</sup> auf die x-Achse zu liegen\n",
    "- Rotation η um die x-Achse mit dem Winkel φ.\n",
    "Dann ist δ = τ<sup>−1</sup> ◦ ρ<sup>−1</sup> ◦ η ◦ ρ ◦ τ."
   ],
   "cell_type": "markdown",
   "metadata": {}
  },
  {
   "source": [
    "    P(2, 0, 0)      Q(0, 4, 0)      φ = 55°\n",
    "\n",
    "        1 0 0 -2           1 0 0 2\n",
    "    τ = 0 1 0  0    τ^-1 = 0 1 0 0\n",
    "        0 0 1  0           0 0 1 0\n",
    "        0 0 0  1           0 0 0 1\n",
    "    \n",
    "    P'(0, 0, 0)     Q'(-2, 4, 0)\n",
    "    m' = 4/-2 = -2 = tan(φ') => sin(φ') = 2/√5, cos(φ') = 1/√5\n",
    "\n",
    "        1/√5 -2/√5 0 0              1/√5 2/√5 0 0\n",
    "    ρ = 2/√5  1/√5 0 0      ρ^-1 = -2/√5 1/√5 0 0\n",
    "         0     0   1 0               0    0   1 0\n",
    "         0     0   0 1               0    0   0 1\n",
    "\n",
    "        1      0         0   0\n",
    "    η = 0 cos(55°) -sin(55°) 0\n",
    "        0 sin(55°)  cos(55°) 0\n",
    "        0      0         0   1\n",
    "\n",
    "    δ = τ^−1 ◦ ρ^−1 ◦ η ◦ ρ ◦ τ"
   ],
   "cell_type": "markdown",
   "metadata": {}
  },
  {
   "cell_type": "code",
   "execution_count": 2,
   "metadata": {},
   "outputs": [
    {
     "output_type": "stream",
     "name": "stdout",
     "text": [
      "[[ 0.65886115  0.17056943  0.73267186 -0.6822777 ]\n [ 0.17056943  0.91471529 -0.36633593  0.34113885]\n [-0.73267186  0.36633593  0.57357644 -1.46534372]\n [ 0.          0.          0.          1.        ]]\n"
     ]
    }
   ],
   "source": [
    "import math\n",
    "import numpy as np\n",
    "\n",
    "T = np.array([[1, 0, 0, -2],\n",
    "              [0, 1, 0,  0],\n",
    "              [0, 0, 1,  0],\n",
    "              [0, 0, 0,  1]])\n",
    "\n",
    "T_inv = np.array([[1, 0, 0, 2],\n",
    "                  [0, 1, 0, 0],\n",
    "                  [0, 0, 1, 0],\n",
    "                  [0, 0, 0, 1]])\n",
    "\n",
    "R = np.array([[1/math.sqrt(5), -2/math.sqrt(5), 0, 0],\n",
    "              [2/math.sqrt(5),  1/math.sqrt(5), 0, 0],\n",
    "              [             0,               0, 1, 0],\n",
    "              [             0,               0, 0, 1]])\n",
    "\n",
    "R_inv = R.transpose()\n",
    "\n",
    "rad = math.radians(55)\n",
    "N = np.array([[1,             0,              0, 0],\n",
    "              [0, math.cos(rad), -math.sin(rad), 0],\n",
    "              [0, math.sin(rad),  math.cos(rad), 0],\n",
    "              [0,             0,              0, 1]])\n",
    "\n",
    "result = np.identity(4)\n",
    "for mat in [T, R, N, R_inv, T_inv]:\n",
    "    result = np.matmul(result, mat)\n",
    "\n",
    "print(result)"
   ]
  },
  {
   "source": [
    "        0.65886115 0.17056943  0.73267186 -0.6822777\n",
    "    δ = 0.17056943 0.91471529 -0.36633593  0.34113885\n",
    "       -0.73267186 0.36633593  0.57357644 -1.46534372\n",
    "        0.         0.          0.          1."
   ],
   "cell_type": "markdown",
   "metadata": {}
  },
  {
   "source": [
    "## Aufgabe 3: Transformation im dreidimensionalen Raum\n",
    "Die 3D-Transformation σ ist gegeben durch die Matrix\n",
    "\n",
    "              1 4 -8 -28\n",
    "    M = 1/9 * 4 7  4  14\n",
    "             -8 4  1 -28\n",
    "              0 0    0 9\n",
    "\n",
    "- (a) Berechnen Sie die Bildpunkte A<sup>\\*</sup> und B<sup>\\*</sup> von A(2|3|-5) und B(6.2|-4.8|-1.7) und bestätigen Sie, dass der Abstand erhalten bleibt, d.h. A<sup>\\*</sup>B<sup>\\*</sup> = AB.\n",
    "- (b) Es stellt sich heraus, dass σ eine Spiegelung ist. Bestimmen Sie die Gleichung der Ebene ε, an welcher gespiegelt wird.\n",
    "\n",
    "**Hinweis:** Die Punkte in ε sind dadurch gekennzeichnet, dass sie bei der Transformation fest bleiben."
   ],
   "cell_type": "markdown",
   "metadata": {}
  },
  {
   "source": [
    "a)\n",
    "\n",
    "                               2        6.2\n",
    "                           A = 3   B = -4.8\n",
    "                              -5       -1.7\n",
    "                               1        1\n",
    "\n",
    "        1/9 4/9 -8/9 -28/9   26/9     -27.4/9\n",
    "    M = 4/9 7/9  4/9  14/9   23/9      -1.6/9\n",
    "       -8/9 4/9  1/9 -28/9  -37/9     -98.5/9\n",
    "         0   0    0     1      1        1\n",
    "\n",
    "    A'(26/9 | 23/9 | -37/9)\n",
    "    B'(-27.4/9 | -1.6/9 | -98.5/9)\n",
    "\n",
    "         2 - 6.2   -4.2\n",
    "    AB = 3 + 4.8 =  7.8             |AB| = √89.37\n",
    "        -5 + 1.7   -3.3\n",
    "\n",
    "           26/9 + 27.4/9   53.4/9\n",
    "    A'B' = 23/9 +  1.6/9 = 24.6/9   |A'B'| = √(7238.97/81) = √89.37 = |AB|\n",
    "          -37/9 + 98.5/9   61.5/9\n",
    "\n",
    "---\n",
    "b)\n",
    "\n",
    "     M * [x y z 1]T = [x y z 1]T => (M-I)*[x y z 1]T = 0\n",
    "\n",
    "      1/9 4/9 -8/9 -28/9   1 0 0 0  -8/9  4/9 -8/9 -28/9\n",
    "      4/9 7/9  4/9  14/9 - 0 1 0 0 = 4/9 -2/9  4/9  14/9\n",
    "     -8/9 4/9  1/9 -28/9   0 0 1 0  -8/9  4/9 -8/9 -28/9\n",
    "       0   0    0     1    0 0 0 1    0    0    0     0\n",
    "\n",
    "    -8/9  4/9 -8/9 -28/9 0           -8/9 4/9 -8/9 -28/9 0  *-9\n",
    "     4/9 -2/9  4/9  14/9 0  +1/2[1]    0   0    0     0  0\n",
    "    -8/9  4/9 -8/9 -28/9 0  -1[1]      0   0    0     0  0\n",
    "      0    0    0     0  0             0   0    0     0  0\n",
    "\n",
    "    8 -4 8 28 0  /4  2 -1 2 7 0\n",
    "    0  0 0  0 0      0  0 0 0 0\n",
    "    0  0 0  0 0      0  0 0 0 0\n",
    "    0  0 0  0 0      0  0 0 0 0\n",
    "\n",
    "    ε: 2x - y + 2z + 7 = 0"
   ],
   "cell_type": "markdown",
   "metadata": {}
  },
  {
   "source": [
    "## Aufgabe 4: Transformation im dreidimensionalen Raum\n",
    "Die Punkte A(0,0,0), B(6,6,3), C(0,9,9), D(-6,3,6), E(3,-6,6), F(9,0,9), G(3,3,15) und H(-3,-3,12) sind die Ecken eines Würfels. Sei π die Parallel-Projektion auf die x-z-Ebene entlang des Vektors(1,1,0).\n",
    "\n",
    "Gesucht\n",
    "- (a) die Matrix der Projektion und\n",
    "- (b) das Abbild des Würfels in der x-z-Ebene."
   ],
   "cell_type": "markdown",
   "metadata": {}
  },
  {
   "source": [
    "## Aufgabe 5: Transformation im dreidimensionalen Raum\n",
    "Die Punkte A(0,0,0), B(6,6,3), C(0,9,9), D(-6,3,6), E(3,-6,6), F(9,0,9), G(3,3,15) und H(-3,-3,12) sind die Ecken eines Würfels. Sei π die perspektivische Projektion auf die x-y-Ebene mit Zentrum Z(2,4,-3).\n",
    "\n",
    "Gesucht sind\n",
    "- (a) die Matrix der Projektion und\n",
    "- (b) das Abbild des Würfels in der x-y-Ebene."
   ],
   "cell_type": "markdown",
   "metadata": {}
  },
  {
   "source": [
    "## Aufgabe 6: Perspektivische Projektion\n",
    "Wir betrachten die perspektivische Projektion auf die Bildebene ε : z = -5 mit dem Zentrum im Nullpunkt. Das Sichtvolumen wird so festgelegt: Nach vorne durch ε : z = -5 und nach hinten durch ε : z = -10. Seitlich durch das rechteckige Fenster mit den Ecken P(-3,-2,-5) und Q(3,3,-5).\n",
    "\n",
    "- (a) Bestimmen Sie die Matrix T, welche die Transformation auf das kanonische Sichtvolumen erzeugt.\n",
    "- (b) Berechnen Sie die Bildpunkte von A(-4.5,4.2,-8) und B(1.6,-2.4,-5.5) und entscheiden Sie dann, ob A und B innerhalb oder ausserhalb des Sichtvolumens liegen."
   ],
   "cell_type": "markdown",
   "metadata": {}
  }
 ]
}