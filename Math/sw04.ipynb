{
 "metadata": {
  "language_info": {
   "codemirror_mode": {
    "name": "ipython",
    "version": 3
   },
   "file_extension": ".py",
   "mimetype": "text/x-python",
   "name": "python",
   "nbconvert_exporter": "python",
   "pygments_lexer": "ipython3",
   "version": 3
  },
  "orig_nbformat": 2
 },
 "nbformat": 4,
 "nbformat_minor": 2,
 "cells": [
  {
   "source": [
    "# Computer Graphik: Projektive Geometrie II - Übung\n",
    "\n",
    "I.BA_CG, SW 04\n",
    "\n",
    "Léonard Wyrsch"
   ],
   "cell_type": "markdown",
   "metadata": {}
  },
  {
   "cell_type": "code",
   "execution_count": null,
   "metadata": {},
   "outputs": [],
   "source": [
    "import math"
   ]
  },
  {
   "source": [
    "## Aufgabe 1: Schnittpunkt zweier Geraden mit homogenen Koordinaten\n",
    "### Bestimmen Sie den Schnittpunkt Q der beiden Geraden\n",
    "\n",
    "    g : 2x+3y−5 = 0 und\n",
    "    h : 5x+11y−9 = 0\n",
    "\n",
    "### indem Sie homogene Koordinaten verwenden."
   ],
   "cell_type": "markdown",
   "metadata": {}
  },
  {
   "source": [
    "## Aufgabe 2: Punkte und Geraden\n",
    "### Gesucht sind\n",
    "- ### (a) die Gerade g durch die Punkte A(5.5 -1.0) und B(2.9 8.0)\n",
    "- ### (b) die Gerade h, welche zu g parallel ist und durch C(3 -6) geht.\n",
    "### Verwenden Sie für die Lösung homogene Koordinaten!\n"
   ],
   "cell_type": "markdown",
   "metadata": {}
  },
  {
   "source": [
    "## Aufgabe 3: Spiegelung an einer Geraden\n",
    "### In der projektiven Ebene P<sup>2</sup> betrachten wir die Spiegelung σ an der Geraden g, welche durch den Vektor g = \\[2, −3, 2\\]<sup>T</sup> gegeben ist. Gesucht sind\n",
    "- ### (a) die Matrix von σ\n",
    "- ### (b) die Bildpunkte von A(8|1) und B(−65.3|0.2)"
   ],
   "cell_type": "markdown",
   "metadata": {}
  },
  {
   "source": [
    "## Aufgabe 4: Streckung\n",
    "### Gegeben ist eine projektive Transformation η durch ihre Matrix\n",
    "\n",
    "        1.5  0   -1.5\n",
    "    H = 0    1.5  0.5\n",
    "        0    0    1\n",
    "\n",
    "### Es stellt sich heraus, dass η eine Streckung ist. Bestimmen Sie den Streckungsfaktor s sowie das Zentrum."
   ],
   "cell_type": "markdown",
   "metadata": {}
  },
  {
   "source": [
    "## Aufgabe 5: Korrektur einer perspektivischen Verzerrung\n",
    "### Gesucht ist eine projektive Transformation η mit der Matrix H, welche die folgende perspektivische Verzerrung korrigiert:\n",
    "\n",
    "    y                     y'\n",
    "    4     D-C             4   D'----C'\n",
    "    3    /   \\       η    3   |     |\n",
    "    2   /     \\     -->   2   |     |\n",
    "    1   A-----B           1   A'----B'\n",
    "    0                     0\n",
    "      0 1 2 3 4 x           0 1 2 3 4 x'\n",
    "\n",
    "### Dabei können Sie die ganzzahligen Koordinaten direkt aus der Abbildung ablesen (z.B. C(3,4) oder D'(1,4) etc.). Weiter können Sie annehmen, dass h<sub>33</sub> = 1."
   ],
   "cell_type": "markdown",
   "metadata": {}
  }
 ]
}