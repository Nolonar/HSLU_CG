{
 "metadata": {
  "language_info": {
   "codemirror_mode": {
    "name": "ipython",
    "version": 3
   },
   "file_extension": ".py",
   "mimetype": "text/x-python",
   "name": "python",
   "nbconvert_exporter": "python",
   "pygments_lexer": "ipython3",
   "version": "3.8.1-final"
  },
  "orig_nbformat": 2,
  "kernelspec": {
   "name": "python3",
   "display_name": "Python 3"
  }
 },
 "nbformat": 4,
 "nbformat_minor": 2,
 "cells": [
  {
   "source": [
    "# Computer Graphik: Curves - Übung\n",
    "\n",
    "I.BA_CG, SW 09\n",
    "\n",
    "Léonard Wyrsch"
   ],
   "cell_type": "markdown",
   "metadata": {}
  },
  {
   "source": [
    "## Aufgabe 1: Interpolierende Kurve durch vier Punkte\n",
    "Bestimmen Sie eine interpolierende Kurve 3. Grades der Form\n",
    "\n",
    "P(t) = c<sub>0</sub> + c<sub>1</sub>t +c<sub>2</sub>t<sup>2</sup> + c<sub>3</sub>t<sup>3</sup>\n",
    "\n",
    "durch die Punkte P<sub>0</sub> = \\[0,0\\]<sup>T</sup>, P<sub>1</sub> = \\[2,2\\]<sup>T</sup>, P<sub>2</sub> = \\[0,3\\]<sup>T</sup> und P<sub>4</sub> = \\[2,4\\]<sup>T</sup> mit Hilfe der Methode der unbestimmten Koeffizienten."
   ],
   "cell_type": "markdown",
   "metadata": {}
  },
  {
   "source": [
    "    1 0 0  0   c0   0\n",
    "    1 1 1  1 * c1 = 2\n",
    "    1 2 4  8   c2   3\n",
    "    1 3 9 27   c3   4\n",
    "\n",
    "    1 0 0  0 0         1 0 0  0 0         1 0 0  0  0         1 0 0 0  0\n",
    "    1 1 1  1 2  -1[1]  0 1 1  1 2         0 1 1  1  2         0 1 1 1  2  -1[3]\n",
    "    1 2 4  8 3  -1[1]  0 2 4  8 3  -2[2]  0 0 2  6 -1  /2     0 0 1 3 -1/2\n",
    "    1 3 9 27 4  -1[1]  0 3 9 27 4  -3[2]  0 0 6 24 -2  -3[3]  0 0 0 6  1  /6\n",
    "\n",
    "    1 0 0  0  0      1 0 0  0  0           1 0 0 0   0\n",
    "    0 1 0 -2  5/2    0 1 0 -2  5/2  +2[4]  0 1 0 0 17/6\n",
    "    0 0 1  3 -1/2    0 0 1  3 -1/2  -3[4]  0 0 1 0  -1\n",
    "    0 0 0  6  1  /6  0 0 0  1  1/6         0 0 0 1  1/6\n",
    "\n",
    "    c0 =   0\n",
    "    c1 = 17/6\n",
    "    c2 =  -1\n",
    "    c3 =  1/6\n",
    "\n",
    "    P(t) = 17/6 * t - t^2 + 1/6 * t^3"
   ],
   "cell_type": "markdown",
   "metadata": {}
  },
  {
   "source": [
    "## Aufgabe 2: Bézier-Kurve durch vier Punkte\n",
    "Bestimmen Sie die (kubische) Bézier-Kurve durch die Punkte P<sub>0</sub>(0,0), P<sub>1</sub>(2,−4), P<sub>2</sub>(5,6) und P<sub>3</sub>(9,0) und skizzieren Sie diese."
   ],
   "cell_type": "markdown",
   "metadata": {}
  },
  {
   "source": [
    "Skizze\n",
    "\n",
    "     y\n",
    "     6           P2\n",
    "     5 \n",
    "     4 \n",
    "     3 \n",
    "     2           xxxxx\n",
    "     1         x       x\n",
    "     0 P0    x           P3\n",
    "    -1   xxx\n",
    "    -2\n",
    "    -3\n",
    "    -4     P1\n",
    "       0 1 2 3 4 5 6 7 8 9 x\n",
    "\n",
    "Kurve\n",
    "\n",
    "    (1 - t)^3 * P0 + 3(1 - t)^2 * t * P1 + 3(1 - t) * t^2 * P2 + t^3 * P3\n",
    "\n",
    "    (1 - t)^3 * 0 + 3(1 - t)^2 * t * 2 + 3(1 - t) * t^2 * 5 + t^3 * 9\n",
    "                0                   -4                    6         0\n",
    "    \n",
    "    (1 - t)^2 *   6t + (1 - t) * 15t^2 + 9t^3\n",
    "                -12t             18t^2   0"
   ],
   "cell_type": "markdown",
   "metadata": {}
  },
  {
   "cell_type": "code",
   "execution_count": 12,
   "metadata": {},
   "outputs": [
    {
     "output_type": "execute_result",
     "data": {
      "text/plain": [
       "[<matplotlib.lines.Line2D at 0x25c4fa0aaf0>]"
      ]
     },
     "metadata": {},
     "execution_count": 12
    },
    {
     "output_type": "display_data",
     "data": {
      "text/plain": "<Figure size 432x288 with 1 Axes>",
      "image/svg+xml": "<?xml version=\"1.0\" encoding=\"utf-8\" standalone=\"no\"?>\r\n<!DOCTYPE svg PUBLIC \"-//W3C//DTD SVG 1.1//EN\"\r\n  \"http://www.w3.org/Graphics/SVG/1.1/DTD/svg11.dtd\">\r\n<!-- Created with matplotlib (https://matplotlib.org/) -->\r\n<svg height=\"248.518125pt\" version=\"1.1\" viewBox=\"0 0 380.482812 248.518125\" width=\"380.482812pt\" xmlns=\"http://www.w3.org/2000/svg\" xmlns:xlink=\"http://www.w3.org/1999/xlink\">\r\n <metadata>\r\n  <rdf:RDF xmlns:cc=\"http://creativecommons.org/ns#\" xmlns:dc=\"http://purl.org/dc/elements/1.1/\" xmlns:rdf=\"http://www.w3.org/1999/02/22-rdf-syntax-ns#\">\r\n   <cc:Work>\r\n    <dc:type rdf:resource=\"http://purl.org/dc/dcmitype/StillImage\"/>\r\n    <dc:date>2020-11-20T14:47:02.358073</dc:date>\r\n    <dc:format>image/svg+xml</dc:format>\r\n    <dc:creator>\r\n     <cc:Agent>\r\n      <dc:title>Matplotlib v3.3.2, https://matplotlib.org/</dc:title>\r\n     </cc:Agent>\r\n    </dc:creator>\r\n   </cc:Work>\r\n  </rdf:RDF>\r\n </metadata>\r\n <defs>\r\n  <style type=\"text/css\">*{stroke-linecap:butt;stroke-linejoin:round;}</style>\r\n </defs>\r\n <g id=\"figure_1\">\r\n  <g id=\"patch_1\">\r\n   <path d=\"M -0 248.518125 \r\nL 380.482812 248.518125 \r\nL 380.482812 0 \r\nL -0 0 \r\nz\r\n\" style=\"fill:none;\"/>\r\n  </g>\r\n  <g id=\"axes_1\">\r\n   <g id=\"patch_2\">\r\n    <path d=\"M 38.482813 224.64 \r\nL 373.282813 224.64 \r\nL 373.282813 7.2 \r\nL 38.482813 7.2 \r\nz\r\n\" style=\"fill:#ffffff;\"/>\r\n   </g>\r\n   <g id=\"matplotlib.axis_1\">\r\n    <g id=\"xtick_1\">\r\n     <g id=\"line2d_1\">\r\n      <defs>\r\n       <path d=\"M 0 0 \r\nL 0 3.5 \r\n\" id=\"mc13fe460d8\" style=\"stroke:#000000;stroke-width:0.8;\"/>\r\n      </defs>\r\n      <g>\r\n       <use style=\"stroke:#000000;stroke-width:0.8;\" x=\"53.700994\" xlink:href=\"#mc13fe460d8\" y=\"224.64\"/>\r\n      </g>\r\n     </g>\r\n     <g id=\"text_1\">\r\n      <!-- 0 -->\r\n      <g transform=\"translate(50.519744 239.238437)scale(0.1 -0.1)\">\r\n       <defs>\r\n        <path d=\"M 31.78125 66.40625 \r\nQ 24.171875 66.40625 20.328125 58.90625 \r\nQ 16.5 51.421875 16.5 36.375 \r\nQ 16.5 21.390625 20.328125 13.890625 \r\nQ 24.171875 6.390625 31.78125 6.390625 \r\nQ 39.453125 6.390625 43.28125 13.890625 \r\nQ 47.125 21.390625 47.125 36.375 \r\nQ 47.125 51.421875 43.28125 58.90625 \r\nQ 39.453125 66.40625 31.78125 66.40625 \r\nz\r\nM 31.78125 74.21875 \r\nQ 44.046875 74.21875 50.515625 64.515625 \r\nQ 56.984375 54.828125 56.984375 36.375 \r\nQ 56.984375 17.96875 50.515625 8.265625 \r\nQ 44.046875 -1.421875 31.78125 -1.421875 \r\nQ 19.53125 -1.421875 13.0625 8.265625 \r\nQ 6.59375 17.96875 6.59375 36.375 \r\nQ 6.59375 54.828125 13.0625 64.515625 \r\nQ 19.53125 74.21875 31.78125 74.21875 \r\nz\r\n\" id=\"DejaVuSans-48\"/>\r\n       </defs>\r\n       <use xlink:href=\"#DejaVuSans-48\"/>\r\n      </g>\r\n     </g>\r\n    </g>\r\n    <g id=\"xtick_2\">\r\n     <g id=\"line2d_2\">\r\n      <g>\r\n       <use style=\"stroke:#000000;stroke-width:0.8;\" x=\"121.337358\" xlink:href=\"#mc13fe460d8\" y=\"224.64\"/>\r\n      </g>\r\n     </g>\r\n     <g id=\"text_2\">\r\n      <!-- 2 -->\r\n      <g transform=\"translate(118.156108 239.238437)scale(0.1 -0.1)\">\r\n       <defs>\r\n        <path d=\"M 19.1875 8.296875 \r\nL 53.609375 8.296875 \r\nL 53.609375 0 \r\nL 7.328125 0 \r\nL 7.328125 8.296875 \r\nQ 12.9375 14.109375 22.625 23.890625 \r\nQ 32.328125 33.6875 34.8125 36.53125 \r\nQ 39.546875 41.84375 41.421875 45.53125 \r\nQ 43.3125 49.21875 43.3125 52.78125 \r\nQ 43.3125 58.59375 39.234375 62.25 \r\nQ 35.15625 65.921875 28.609375 65.921875 \r\nQ 23.96875 65.921875 18.8125 64.3125 \r\nQ 13.671875 62.703125 7.8125 59.421875 \r\nL 7.8125 69.390625 \r\nQ 13.765625 71.78125 18.9375 73 \r\nQ 24.125 74.21875 28.421875 74.21875 \r\nQ 39.75 74.21875 46.484375 68.546875 \r\nQ 53.21875 62.890625 53.21875 53.421875 \r\nQ 53.21875 48.921875 51.53125 44.890625 \r\nQ 49.859375 40.875 45.40625 35.40625 \r\nQ 44.1875 33.984375 37.640625 27.21875 \r\nQ 31.109375 20.453125 19.1875 8.296875 \r\nz\r\n\" id=\"DejaVuSans-50\"/>\r\n       </defs>\r\n       <use xlink:href=\"#DejaVuSans-50\"/>\r\n      </g>\r\n     </g>\r\n    </g>\r\n    <g id=\"xtick_3\">\r\n     <g id=\"line2d_3\">\r\n      <g>\r\n       <use style=\"stroke:#000000;stroke-width:0.8;\" x=\"188.973722\" xlink:href=\"#mc13fe460d8\" y=\"224.64\"/>\r\n      </g>\r\n     </g>\r\n     <g id=\"text_3\">\r\n      <!-- 4 -->\r\n      <g transform=\"translate(185.792472 239.238437)scale(0.1 -0.1)\">\r\n       <defs>\r\n        <path d=\"M 37.796875 64.3125 \r\nL 12.890625 25.390625 \r\nL 37.796875 25.390625 \r\nz\r\nM 35.203125 72.90625 \r\nL 47.609375 72.90625 \r\nL 47.609375 25.390625 \r\nL 58.015625 25.390625 \r\nL 58.015625 17.1875 \r\nL 47.609375 17.1875 \r\nL 47.609375 0 \r\nL 37.796875 0 \r\nL 37.796875 17.1875 \r\nL 4.890625 17.1875 \r\nL 4.890625 26.703125 \r\nz\r\n\" id=\"DejaVuSans-52\"/>\r\n       </defs>\r\n       <use xlink:href=\"#DejaVuSans-52\"/>\r\n      </g>\r\n     </g>\r\n    </g>\r\n    <g id=\"xtick_4\">\r\n     <g id=\"line2d_4\">\r\n      <g>\r\n       <use style=\"stroke:#000000;stroke-width:0.8;\" x=\"256.610085\" xlink:href=\"#mc13fe460d8\" y=\"224.64\"/>\r\n      </g>\r\n     </g>\r\n     <g id=\"text_4\">\r\n      <!-- 6 -->\r\n      <g transform=\"translate(253.428835 239.238437)scale(0.1 -0.1)\">\r\n       <defs>\r\n        <path d=\"M 33.015625 40.375 \r\nQ 26.375 40.375 22.484375 35.828125 \r\nQ 18.609375 31.296875 18.609375 23.390625 \r\nQ 18.609375 15.53125 22.484375 10.953125 \r\nQ 26.375 6.390625 33.015625 6.390625 \r\nQ 39.65625 6.390625 43.53125 10.953125 \r\nQ 47.40625 15.53125 47.40625 23.390625 \r\nQ 47.40625 31.296875 43.53125 35.828125 \r\nQ 39.65625 40.375 33.015625 40.375 \r\nz\r\nM 52.59375 71.296875 \r\nL 52.59375 62.3125 \r\nQ 48.875 64.0625 45.09375 64.984375 \r\nQ 41.3125 65.921875 37.59375 65.921875 \r\nQ 27.828125 65.921875 22.671875 59.328125 \r\nQ 17.53125 52.734375 16.796875 39.40625 \r\nQ 19.671875 43.65625 24.015625 45.921875 \r\nQ 28.375 48.1875 33.59375 48.1875 \r\nQ 44.578125 48.1875 50.953125 41.515625 \r\nQ 57.328125 34.859375 57.328125 23.390625 \r\nQ 57.328125 12.15625 50.6875 5.359375 \r\nQ 44.046875 -1.421875 33.015625 -1.421875 \r\nQ 20.359375 -1.421875 13.671875 8.265625 \r\nQ 6.984375 17.96875 6.984375 36.375 \r\nQ 6.984375 53.65625 15.1875 63.9375 \r\nQ 23.390625 74.21875 37.203125 74.21875 \r\nQ 40.921875 74.21875 44.703125 73.484375 \r\nQ 48.484375 72.75 52.59375 71.296875 \r\nz\r\n\" id=\"DejaVuSans-54\"/>\r\n       </defs>\r\n       <use xlink:href=\"#DejaVuSans-54\"/>\r\n      </g>\r\n     </g>\r\n    </g>\r\n    <g id=\"xtick_5\">\r\n     <g id=\"line2d_5\">\r\n      <g>\r\n       <use style=\"stroke:#000000;stroke-width:0.8;\" x=\"324.246449\" xlink:href=\"#mc13fe460d8\" y=\"224.64\"/>\r\n      </g>\r\n     </g>\r\n     <g id=\"text_5\">\r\n      <!-- 8 -->\r\n      <g transform=\"translate(321.065199 239.238437)scale(0.1 -0.1)\">\r\n       <defs>\r\n        <path d=\"M 31.78125 34.625 \r\nQ 24.75 34.625 20.71875 30.859375 \r\nQ 16.703125 27.09375 16.703125 20.515625 \r\nQ 16.703125 13.921875 20.71875 10.15625 \r\nQ 24.75 6.390625 31.78125 6.390625 \r\nQ 38.8125 6.390625 42.859375 10.171875 \r\nQ 46.921875 13.96875 46.921875 20.515625 \r\nQ 46.921875 27.09375 42.890625 30.859375 \r\nQ 38.875 34.625 31.78125 34.625 \r\nz\r\nM 21.921875 38.8125 \r\nQ 15.578125 40.375 12.03125 44.71875 \r\nQ 8.5 49.078125 8.5 55.328125 \r\nQ 8.5 64.0625 14.71875 69.140625 \r\nQ 20.953125 74.21875 31.78125 74.21875 \r\nQ 42.671875 74.21875 48.875 69.140625 \r\nQ 55.078125 64.0625 55.078125 55.328125 \r\nQ 55.078125 49.078125 51.53125 44.71875 \r\nQ 48 40.375 41.703125 38.8125 \r\nQ 48.828125 37.15625 52.796875 32.3125 \r\nQ 56.78125 27.484375 56.78125 20.515625 \r\nQ 56.78125 9.90625 50.3125 4.234375 \r\nQ 43.84375 -1.421875 31.78125 -1.421875 \r\nQ 19.734375 -1.421875 13.25 4.234375 \r\nQ 6.78125 9.90625 6.78125 20.515625 \r\nQ 6.78125 27.484375 10.78125 32.3125 \r\nQ 14.796875 37.15625 21.921875 38.8125 \r\nz\r\nM 18.3125 54.390625 \r\nQ 18.3125 48.734375 21.84375 45.5625 \r\nQ 25.390625 42.390625 31.78125 42.390625 \r\nQ 38.140625 42.390625 41.71875 45.5625 \r\nQ 45.3125 48.734375 45.3125 54.390625 \r\nQ 45.3125 60.0625 41.71875 63.234375 \r\nQ 38.140625 66.40625 31.78125 66.40625 \r\nQ 25.390625 66.40625 21.84375 63.234375 \r\nQ 18.3125 60.0625 18.3125 54.390625 \r\nz\r\n\" id=\"DejaVuSans-56\"/>\r\n       </defs>\r\n       <use xlink:href=\"#DejaVuSans-56\"/>\r\n      </g>\r\n     </g>\r\n    </g>\r\n   </g>\r\n   <g id=\"matplotlib.axis_2\">\r\n    <g id=\"ytick_1\">\r\n     <g id=\"line2d_6\">\r\n      <defs>\r\n       <path d=\"M 0 0 \r\nL -3.5 0 \r\n\" id=\"m971975b1c8\" style=\"stroke:#000000;stroke-width:0.8;\"/>\r\n      </defs>\r\n      <g>\r\n       <use style=\"stroke:#000000;stroke-width:0.8;\" x=\"38.482813\" xlink:href=\"#m971975b1c8\" y=\"216.565543\"/>\r\n      </g>\r\n     </g>\r\n     <g id=\"text_6\">\r\n      <!-- −1.0 -->\r\n      <g transform=\"translate(7.2 220.364762)scale(0.1 -0.1)\">\r\n       <defs>\r\n        <path d=\"M 10.59375 35.5 \r\nL 73.1875 35.5 \r\nL 73.1875 27.203125 \r\nL 10.59375 27.203125 \r\nz\r\n\" id=\"DejaVuSans-8722\"/>\r\n        <path d=\"M 12.40625 8.296875 \r\nL 28.515625 8.296875 \r\nL 28.515625 63.921875 \r\nL 10.984375 60.40625 \r\nL 10.984375 69.390625 \r\nL 28.421875 72.90625 \r\nL 38.28125 72.90625 \r\nL 38.28125 8.296875 \r\nL 54.390625 8.296875 \r\nL 54.390625 0 \r\nL 12.40625 0 \r\nz\r\n\" id=\"DejaVuSans-49\"/>\r\n        <path d=\"M 10.6875 12.40625 \r\nL 21 12.40625 \r\nL 21 0 \r\nL 10.6875 0 \r\nz\r\n\" id=\"DejaVuSans-46\"/>\r\n       </defs>\r\n       <use xlink:href=\"#DejaVuSans-8722\"/>\r\n       <use x=\"83.789062\" xlink:href=\"#DejaVuSans-49\"/>\r\n       <use x=\"147.412109\" xlink:href=\"#DejaVuSans-46\"/>\r\n       <use x=\"179.199219\" xlink:href=\"#DejaVuSans-48\"/>\r\n      </g>\r\n     </g>\r\n    </g>\r\n    <g id=\"ytick_2\">\r\n     <g id=\"line2d_7\">\r\n      <g>\r\n       <use style=\"stroke:#000000;stroke-width:0.8;\" x=\"38.482813\" xlink:href=\"#m971975b1c8\" y=\"182.98268\"/>\r\n      </g>\r\n     </g>\r\n     <g id=\"text_7\">\r\n      <!-- −0.5 -->\r\n      <g transform=\"translate(7.2 186.781899)scale(0.1 -0.1)\">\r\n       <defs>\r\n        <path d=\"M 10.796875 72.90625 \r\nL 49.515625 72.90625 \r\nL 49.515625 64.59375 \r\nL 19.828125 64.59375 \r\nL 19.828125 46.734375 \r\nQ 21.96875 47.46875 24.109375 47.828125 \r\nQ 26.265625 48.1875 28.421875 48.1875 \r\nQ 40.625 48.1875 47.75 41.5 \r\nQ 54.890625 34.8125 54.890625 23.390625 \r\nQ 54.890625 11.625 47.5625 5.09375 \r\nQ 40.234375 -1.421875 26.90625 -1.421875 \r\nQ 22.3125 -1.421875 17.546875 -0.640625 \r\nQ 12.796875 0.140625 7.71875 1.703125 \r\nL 7.71875 11.625 \r\nQ 12.109375 9.234375 16.796875 8.0625 \r\nQ 21.484375 6.890625 26.703125 6.890625 \r\nQ 35.15625 6.890625 40.078125 11.328125 \r\nQ 45.015625 15.765625 45.015625 23.390625 \r\nQ 45.015625 31 40.078125 35.4375 \r\nQ 35.15625 39.890625 26.703125 39.890625 \r\nQ 22.75 39.890625 18.8125 39.015625 \r\nQ 14.890625 38.140625 10.796875 36.28125 \r\nz\r\n\" id=\"DejaVuSans-53\"/>\r\n       </defs>\r\n       <use xlink:href=\"#DejaVuSans-8722\"/>\r\n       <use x=\"83.789062\" xlink:href=\"#DejaVuSans-48\"/>\r\n       <use x=\"147.412109\" xlink:href=\"#DejaVuSans-46\"/>\r\n       <use x=\"179.199219\" xlink:href=\"#DejaVuSans-53\"/>\r\n      </g>\r\n     </g>\r\n    </g>\r\n    <g id=\"ytick_3\">\r\n     <g id=\"line2d_8\">\r\n      <g>\r\n       <use style=\"stroke:#000000;stroke-width:0.8;\" x=\"38.482813\" xlink:href=\"#m971975b1c8\" y=\"149.399816\"/>\r\n      </g>\r\n     </g>\r\n     <g id=\"text_8\">\r\n      <!-- 0.0 -->\r\n      <g transform=\"translate(15.579688 153.199035)scale(0.1 -0.1)\">\r\n       <use xlink:href=\"#DejaVuSans-48\"/>\r\n       <use x=\"63.623047\" xlink:href=\"#DejaVuSans-46\"/>\r\n       <use x=\"95.410156\" xlink:href=\"#DejaVuSans-48\"/>\r\n      </g>\r\n     </g>\r\n    </g>\r\n    <g id=\"ytick_4\">\r\n     <g id=\"line2d_9\">\r\n      <g>\r\n       <use style=\"stroke:#000000;stroke-width:0.8;\" x=\"38.482813\" xlink:href=\"#m971975b1c8\" y=\"115.816953\"/>\r\n      </g>\r\n     </g>\r\n     <g id=\"text_9\">\r\n      <!-- 0.5 -->\r\n      <g transform=\"translate(15.579688 119.616171)scale(0.1 -0.1)\">\r\n       <use xlink:href=\"#DejaVuSans-48\"/>\r\n       <use x=\"63.623047\" xlink:href=\"#DejaVuSans-46\"/>\r\n       <use x=\"95.410156\" xlink:href=\"#DejaVuSans-53\"/>\r\n      </g>\r\n     </g>\r\n    </g>\r\n    <g id=\"ytick_5\">\r\n     <g id=\"line2d_10\">\r\n      <g>\r\n       <use style=\"stroke:#000000;stroke-width:0.8;\" x=\"38.482813\" xlink:href=\"#m971975b1c8\" y=\"82.234089\"/>\r\n      </g>\r\n     </g>\r\n     <g id=\"text_10\">\r\n      <!-- 1.0 -->\r\n      <g transform=\"translate(15.579688 86.033308)scale(0.1 -0.1)\">\r\n       <use xlink:href=\"#DejaVuSans-49\"/>\r\n       <use x=\"63.623047\" xlink:href=\"#DejaVuSans-46\"/>\r\n       <use x=\"95.410156\" xlink:href=\"#DejaVuSans-48\"/>\r\n      </g>\r\n     </g>\r\n    </g>\r\n    <g id=\"ytick_6\">\r\n     <g id=\"line2d_11\">\r\n      <g>\r\n       <use style=\"stroke:#000000;stroke-width:0.8;\" x=\"38.482813\" xlink:href=\"#m971975b1c8\" y=\"48.651226\"/>\r\n      </g>\r\n     </g>\r\n     <g id=\"text_11\">\r\n      <!-- 1.5 -->\r\n      <g transform=\"translate(15.579688 52.450444)scale(0.1 -0.1)\">\r\n       <use xlink:href=\"#DejaVuSans-49\"/>\r\n       <use x=\"63.623047\" xlink:href=\"#DejaVuSans-46\"/>\r\n       <use x=\"95.410156\" xlink:href=\"#DejaVuSans-53\"/>\r\n      </g>\r\n     </g>\r\n    </g>\r\n    <g id=\"ytick_7\">\r\n     <g id=\"line2d_12\">\r\n      <g>\r\n       <use style=\"stroke:#000000;stroke-width:0.8;\" x=\"38.482813\" xlink:href=\"#m971975b1c8\" y=\"15.068362\"/>\r\n      </g>\r\n     </g>\r\n     <g id=\"text_12\">\r\n      <!-- 2.0 -->\r\n      <g transform=\"translate(15.579688 18.867581)scale(0.1 -0.1)\">\r\n       <use xlink:href=\"#DejaVuSans-50\"/>\r\n       <use x=\"63.623047\" xlink:href=\"#DejaVuSans-46\"/>\r\n       <use x=\"95.410156\" xlink:href=\"#DejaVuSans-48\"/>\r\n      </g>\r\n     </g>\r\n    </g>\r\n   </g>\r\n   <g id=\"line2d_13\">\r\n    <path clip-path=\"url(#p5cc8fcfabd)\" d=\"M 53.700994 149.399816 \r\nL 57.884251 164.690782 \r\nL 62.152019 177.734688 \r\nL 66.504296 188.634297 \r\nL 70.941084 197.49237 \r\nL 75.462382 204.411669 \r\nL 80.06819 209.494956 \r\nL 84.758508 212.844993 \r\nL 89.533337 214.564541 \r\nL 94.392676 214.756364 \r\nL 99.336525 213.523221 \r\nL 104.364884 210.967876 \r\nL 109.477754 207.19309 \r\nL 114.675134 202.301625 \r\nL 119.957024 196.396243 \r\nL 125.323424 189.579706 \r\nL 130.774335 181.954776 \r\nL 136.309756 173.624214 \r\nL 141.929687 164.690782 \r\nL 147.634128 155.257243 \r\nL 153.42308 145.426357 \r\nL 159.296542 135.300888 \r\nL 165.254514 124.983597 \r\nL 171.296996 114.577245 \r\nL 177.423989 104.184595 \r\nL 183.635491 93.908408 \r\nL 189.931504 83.851447 \r\nL 196.312028 74.116473 \r\nL 202.777061 64.806247 \r\nL 209.326605 56.023533 \r\nL 215.960659 47.871092 \r\nL 222.679223 40.451685 \r\nL 229.482298 33.868075 \r\nL 236.369882 28.223023 \r\nL 243.341977 23.619291 \r\nL 250.398582 20.159642 \r\nL 257.539698 17.946836 \r\nL 264.765324 17.083636 \r\nL 272.07546 17.672804 \r\nL 279.470106 19.817102 \r\nL 286.949262 23.619291 \r\nL 294.512929 29.182133 \r\nL 302.161106 36.608391 \r\nL 309.893793 46.000826 \r\nL 317.71099 57.462199 \r\nL 325.612698 71.095274 \r\nL 333.598916 87.002811 \r\nL 341.669644 105.287572 \r\nL 349.824882 126.05232 \r\nL 358.064631 149.399816 \r\n\" style=\"fill:none;stroke:#1f77b4;stroke-linecap:square;stroke-width:1.5;\"/>\r\n   </g>\r\n   <g id=\"patch_3\">\r\n    <path d=\"M 38.482813 224.64 \r\nL 38.482813 7.2 \r\n\" style=\"fill:none;stroke:#000000;stroke-linecap:square;stroke-linejoin:miter;stroke-width:0.8;\"/>\r\n   </g>\r\n   <g id=\"patch_4\">\r\n    <path d=\"M 373.282813 224.64 \r\nL 373.282813 7.2 \r\n\" style=\"fill:none;stroke:#000000;stroke-linecap:square;stroke-linejoin:miter;stroke-width:0.8;\"/>\r\n   </g>\r\n   <g id=\"patch_5\">\r\n    <path d=\"M 38.482813 224.64 \r\nL 373.282812 224.64 \r\n\" style=\"fill:none;stroke:#000000;stroke-linecap:square;stroke-linejoin:miter;stroke-width:0.8;\"/>\r\n   </g>\r\n   <g id=\"patch_6\">\r\n    <path d=\"M 38.482813 7.2 \r\nL 373.282812 7.2 \r\n\" style=\"fill:none;stroke:#000000;stroke-linecap:square;stroke-linejoin:miter;stroke-width:0.8;\"/>\r\n   </g>\r\n  </g>\r\n </g>\r\n <defs>\r\n  <clipPath id=\"p5cc8fcfabd\">\r\n   <rect height=\"217.44\" width=\"334.8\" x=\"38.482813\" y=\"7.2\"/>\r\n  </clipPath>\r\n </defs>\r\n</svg>\r\n",
      "image/png": "[encoded data removed]"
     },
     "metadata": {
      "needs_background": "light"
     }
    }
   ],
   "source": [
    "import numpy as np\n",
    "from matplotlib import pyplot as plt\n",
    "\n",
    "def f(t):\n",
    "    x = (1 - t)**2 *   6 * t + (1 - t) * 15 * t**2 + 9 * t**3\n",
    "    y = (1 - t)**2 * -12 * t + (1 - t) * 18 * t**2\n",
    "    return x, y\n",
    "\n",
    "points = [f(t) for t in np.linspace(0, 1)]\n",
    "x = [p[0] for p in points]\n",
    "y = [p[1] for p in points]\n",
    "\n",
    "plt.plot(x, y)"
   ]
  },
  {
   "source": [
    "## Aufgabe 3: Nochmals: Bézier-Kurve durch vier Punkte\n",
    "Betrachten Sie die vier Punkte aus Aufgabe 2. Welche kubische Bézier-Kurve geht exakt durch diese vier Punkte? Hinweis: Bekanntlich geht eine Bézier-Kurve der Form\n",
    "\n",
    "P(t) = C<sub>0</sub>(1 − t)<sup>3</sup> + 3C<sub>1</sub>t(1 − t)<sup>2</sup> + 3C<sub>2</sub>t<sup>2</sup>(1 − t) + C<sub>3</sub>t<sup>3</sup>\n",
    "\n",
    "nicht durch alle Kontrollpunkte C<sub>0</sub>, C<sub>1</sub>, C<sub>2</sub> und C<sub>3</sub>: lediglich durch den ersten und den letzten, d.h. C<sub>0</sub> = P<sub>0</sub> und C<sub>3</sub> = P<sub>3</sub>. Wir wollen nun C<sub>1</sub> = (C<sub>1,x</sub>,C<sub>1,y</sub>)<sup>T</sup> und C<sub>2</sub> = (C<sub>2,x</sub>,C<sub>2,y</sub>)<sup>T</sup> so bestimmen, dass gilt:\n",
    "\n",
    "P(t = 1/4) = P<sub>1</sub> = \\[2, −4\\]<sup>T</sup>  \n",
    "P(t = 3/4) = P<sub>2</sub> = \\[5, 6\\]<sup>T</sup>\n",
    "\n",
    "Die einzigen vier Variablen sind also die Komponenten von C<sub>1</sub> und C<sub>2</sub>. Wenn Sie den Ansatz\n",
    "\n",
    "P(t) = P<sub>0</sub>(1 − t)<sup>3</sup> + 3C<sub>1</sub>t(1 − t)<sup>2</sup> + 3C<sub>2</sub>t<sup>2</sup>(1 − t) + P<sub>3</sub>t<sup>3</sup>\n",
    "\n",
    "für t = 1/4 und t = 3/4 auswerten und verlangen, dass\n",
    "\n",
    "P(t = 1/4) = P<sub>1</sub> und P(t = 3/4) = P<sub>2</sub>\n",
    "\n",
    "gilt, erhalten Sie vier Gleichungen in den gesuchten Unbekannten C<sub>1,x</sub>, C<sub>1,y</sub>, C<sub>2,x</sub> und C<sub>2,y</sub>. Beachte: es gibt viele Bézier-Kurven durch P<sub>1</sub> und P<sub>2</sub> welche in P<sub>0</sub> starten und in P<sub>3</sub> enden. Alleine der Fahrplan (wo man zu welcher Zeit t ist) macht die Darstellung eindeutig!"
   ],
   "cell_type": "markdown",
   "metadata": {}
  },
  {
   "source": [
    "    P(t) = 3(1 - t)^2 * t * P1 + 3(1 - t) * t^2 * P2 + t^3 * 9\n",
    "                                                             0\n",
    "\n",
    "    P1 = P(1/4) =  2    P2 = P(3/4) = 5\n",
    "                  -4                  6\n",
    "\n",
    "    P(1/4) = 3(3/4)^2 * 1/4 * C1 + 3(3/4) * (1/4)^2 * C2 + (1/4)^3 * 9\n",
    "                                                                     0\n",
    "\n",
    "    = 3 * 9/16 * 1/4 * C1 + 9/4 * 1/16 * C2 + 1/64 * 9\n",
    "                                                     0\n",
    "\n",
    "    = 27/64 * C1x + 9/64 * C2x + 1/64 * 9 =  2\n",
    "              C1y          C2y          0   -4\n",
    "\n",
    "    P1 = 27/64 * C1x + 9/64 * C2x = 119/64\n",
    "                 C1y          C2y     -4\n",
    "\n",
    "    P(3/4) = 3(1/4)^2 * 3/4 * C1 + 3(1/4) * (3/4)^2 * C2 + (3/4)^3 * 9\n",
    "                                                                     0\n",
    "\n",
    "    = 3/16 * 3/4 * C1 + 3/4 * 9/16 * C2 + 27/64 * 9\n",
    "                                                  0\n",
    "\n",
    "    = 9/64 * C1x + 27/64 * C2x + 27/64 * 9 = 5\n",
    "             C1y           C2y           0   6\n",
    "\n",
    "    P2 = 9/64 * C1x + 27/64 * C2x = 77/64\n",
    "                C1y           C2y     6\n",
    "\n",
    "    64 * P1 = 27 * C1x + 9 * C2x = 119\n",
    "                   C1y       C2y  -256\n",
    "\n",
    "    64 * P2 = 9 * C1x + 27 * C2x =  77\n",
    "                  C1y        C2y   384\n",
    "\n",
    "    27  0  9  0  119  /9  3 0 1 0  119/9  -3[3]  0 0 -8  0  -112/9  /-8\n",
    "     0 27  0  9 -256  /9  0 3 0 1 -256/9  -3[4]  0 0  0 -8 -1408/9  /-8\n",
    "     9  0 27  0   77  /9  1 0 3 0   77/9         1 0  3  0    77/9\n",
    "     0  9  0 27  384  /9  0 1 0 3  384/9         0 1  0  3   384/9\n",
    "\n",
    "    0 0 1 0  14/9         0 0 1 0   14/9\n",
    "    0 0 0 1 176/9         0 0 0 1  176/9\n",
    "    1 0 3 0  77/9  -3[1]  1 0 0 0   35/9\n",
    "    0 1 0 3 384/9  -3[2]  0 1 0 0 -144/9\n",
    "\n",
    "    C1 =   35/9\n",
    "         -144/9\n",
    "\n",
    "    C2 =   14/9\n",
    "          176/9"
   ],
   "cell_type": "markdown",
   "metadata": {}
  },
  {
   "cell_type": "code",
   "execution_count": 15,
   "metadata": {},
   "outputs": [
    {
     "output_type": "stream",
     "name": "stdout",
     "text": [
      "(2.0, -4.0)\n(5.0, 6.0)\n"
     ]
    }
   ],
   "source": [
    "def f2(t):\n",
    "    x = 3 * (1 - t)**2 *   35/9 * t + 3 * (1 - t) *  14/9 * t**2 + 9 * t**3\n",
    "    y = 3 * (1 - t)**2 * -144/9 * t + 3 * (1 - t) * 176/9 * t**2\n",
    "    return x, y\n",
    "\n",
    "assert f2(1/4) == (2, -4)\n",
    "assert f2(3/4) == (5,  6)\n",
    "\n",
    "print(f2(1/4))\n",
    "print(f2(3/4))"
   ]
  },
  {
   "source": [
    "## Aufgabe 4<sup>*</sup>: Die B-Spline-Funktionen N<sub>j,m</sub>(t)\n",
    "Zeigen Sie mit Hilfe eines Beweises durch Induktion nach m, dass gilt:\n",
    "\n",
    "       i\n",
    "       ∑    (N[j,m](t)) = 1\n",
    "    j=i−m+1\n",
    "\n",
    "Beachte: diese Aufgabe ist mit einem Stern bezeichnet und daher nicht einfach!"
   ],
   "cell_type": "markdown",
   "metadata": {}
  },
  {
   "source": [
    "    m = 1\n",
    "\n",
    "     i\n",
    "     ∑  (N[j,1](t)) = N[i,1](t)\n",
    "    j=i\n",
    "\n",
    "    N[i,1](t) = 1 if t in range(t[i], t[i+1]) else 0\n",
    "\n",
    "    N[i,1](t) = 1   q.e.d\n",
    "\n",
    "---\n",
    "\n",
    "    m > 1"
   ],
   "cell_type": "markdown",
   "metadata": {}
  },
  {
   "source": [
    "## Aufgabe 5: B-Spline Basisfunktionen\n",
    "Berechnen Sie N<sub>0,1</sub>(t), N<sub>1,1</sub>(t), N<sub>2,1</sub>(t), N<sub>0,2</sub>(t), N<sub>1,2</sub>(t) und N<sub>0,3</sub>(t)für den Knotenvektor t = (t<sub>0</sub>,t<sub>1</sub>,t<sub>2</sub>,t<sub>3</sub>) = (0,2,3,6)."
   ],
   "cell_type": "markdown",
   "metadata": {}
  },
  {
   "source": [
    "    N[0,1] = 1 if t in range(0, 2) else 0\n",
    "    N[1,1] = 1 if t in range(2, 3) else 0\n",
    "    N[2,1] = 1 if t in range(3, 6) else 0\n",
    "\n",
    "    N[0,2] = (t-t0)/(t1-t0) * N[0,1] + (t2-t)/(t2-t1) * N[1,1] =\n",
    "    if t in range(0, 2): (t-t0)/(t1-t0) = (t-0)/(2-0) = t/2\n",
    "    if t in range(2, 3): (t2-t)/(t2-t1) = (3-t)/(3-1) = 3 - t\n",
    "    else: 0\n",
    "\n",
    "    N[1,2] = (t-t1)/(t2-t1) * N[1,1] + (t3-t)/(t3-t2) * N[2,1] =\n",
    "    if t in range(2, 3): (t-t1)/(t2-t1) = (t-2)/(3-2) = t - 2\n",
    "    if t in range(3, 6): (t3-t)/(t3-t2) = (6-t)/(6-3) = 2 - t/3\n",
    "    else: 0\n",
    "\n",
    "    N[0,3] = (t-t0)/(t2-t0) * N[0,2] + (t3-t)/(t3-t1) * N[1,2] =\n",
    "    if t in range(0, 2): (t-t0)/(t2-t0) * t/2 = (t-0)/(3-0) * t/2 = t^2/6\n",
    "\n",
    "    if t in range(2, 3): (t-t0)/(t2-t0) * (3-t) + (t3-t)/(t3-t1) * (t-2) = t/3 * (3-t) + (6-t)/4 * (t-2) = (3t-t^2)/3 + (6t-t^2-12+2t)/4 = t - t^2/3 + 2t - t^2/4 - 3 = -7/12 * t^2 + 3t - 3\n",
    "\n",
    "    if t in range(3, 6): (t3-t)/(t3-t1) * (2-t/3) = (6-t)/(6-2) * (2-t/3) = (6-t)/4 * (2-t/3) = 2*(6-t)/4 - t*(6-t)/12 = (6-t)^2/12\n",
    "\n",
    "                t^2/6                 wenn 0 <= t < 2\n",
    "    N[0,3](t) = -7/12 * t^2 + 3t - 3  wenn 2 <= t < 3\n",
    "                (6 - t)^2 / 12        wenn 3 <= t < 6"
   ],
   "cell_type": "markdown",
   "metadata": {}
  },
  {
   "source": [
    "## Aufgabe 6: Quadratische B-Spline Basisfunktionen N<sub>j,3</sub>(t)\n",
    "Verwendet Sie die Rekursionsformel um N<sub>j,3</sub>(t) vollständig auszudrücken in t, t<sub>j</sub>, t<sub>j+2</sub> und t<sub>j+3</sub>. Beachten Sie, dass N<sub>j,3</sub>(t) nur verschieden von Null ist für t<sub>i</sub> < t < t<sub>i+3</sub>. Plotten Sie N<sub>j,3</sub>(t) im Intervall \\[t<sub>j</sub>,t<sub>j+3</sub>\\]."
   ],
   "cell_type": "markdown",
   "metadata": {}
  },
  {
   "source": [
    "## Aufgabe 7: Literaturstudium\n",
    "Lesen Sie den Abschnitt 7.14 aus dem Buch von David Salomon, “*Curves and Surfaces for Computer Graphics* und betrachten Sie insbesondere das Beispiel auf der Seite 303 unten. Zeichnen Sie die Basisfunktionen N<sub>03</sub>(t), N<sub>13</sub>(t), N<sub>23</sub>(t), N<sub>33</sub>(t) und N<sub>43</sub>(t) auf (z.B. Maple verwenden). Beantworten Sie dann folgende Fragen mit entsprechenden Begründungen:\n",
    "\n",
    "1. Wie sieht die NURBS-Kurve für w<sub>2</sub> = 0 aus?\n",
    "2. Was bewirkt die Veränderung des Gewichtes w<sub>2</sub>?"
   ],
   "cell_type": "markdown",
   "metadata": {}
  }
 ]
}